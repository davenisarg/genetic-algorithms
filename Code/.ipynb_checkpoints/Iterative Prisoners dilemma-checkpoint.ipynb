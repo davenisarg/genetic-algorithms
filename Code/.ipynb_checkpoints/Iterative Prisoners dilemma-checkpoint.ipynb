{
 "cells": [
  {
   "cell_type": "markdown",
   "metadata": {},
   "source": [
    "# The Iterative Prisoner's Dilemma\n",
    "\n",
    "### <b>Author</b> : <b>Nisarg Dave</b>\n",
    "\n",
    "### <b>Creation</b> : <b>17/04/2018</b>\n",
    "\n",
    "## Introduction\n",
    "\n",
    "The Game theory is displine of optimizing the Game strategies. It basically examines the conflict scenarios and plots the best possible move for players. The n player games are generally examined by the type of cooperative or non-cooperative games. The zero games where loses to one is the whole winning of the other and the non zero game where the points distribution is different in each case.The game theory breaks down the games first using the number of players,the simultaneous games where players play simultaneously, they do not know what opponant plays.\n",
    "\n",
    "The representation is done by game winning matrix. The theory focuses on to identify the best way or strategy to win a game and for that it mainly relies on the rationality of the game. One or more rational corrections can be applied.\n",
    "\n",
    " * The Nash equilibrium , is the situation of no regret for each player. Simultaneous game but now I know what other player played so no regret.\n",
    " \n",
    " * The optimum of Pareto , The situation where no situation is superior for both the players.\n",
    "  \n",
    "  My analysis shows how to compare and apply strategies collectively. \n",
    " "
   ]
  },
  {
   "cell_type": "code",
   "execution_count": 1,
   "metadata": {},
   "outputs": [],
   "source": [
    "import numpy as np\n",
    "import pandas as pd\n",
    "import math\n",
    "import itertools\n",
    "from random import random\n",
    "import random\n",
    "import copy\n",
    "import datetime\n",
    "import matplotlib.pyplot as plt\n",
    "%matplotlib inline"
   ]
  },
  {
   "cell_type": "markdown",
   "metadata": {},
   "source": [
    "## A matrix of earnings, Nash equilibrium & pareto\n",
    "\n",
    "The Game is the class which will allow us to store winnings of both the players. it takes array of pairs (the gain of player 1 and player 2)\n",
    "\n",
    "Moreover I did use potential balance to calcuate no regret situation corresponding to the nash equilibrium.If the player has 2 max then it's Nash Equilibrium. "
   ]
  },
  {
   "cell_type": "code",
   "execution_count": 2,
   "metadata": {},
   "outputs": [],
   "source": [
    "class Game:\n",
    "    def __init__(self, tab, actions):\n",
    "        self.actions=actions\n",
    "        m=np.array(tab,dtype=[('x', 'int32'), ('y', 'int32')])\n",
    "        self.size = int(math.sqrt(len(tab)))\n",
    "        self.scores=m.reshape(self.size,self.size)\n",
    "\n",
    "    def nash(self):\n",
    "        max_x = np.matrix(self.scores['x'].max(0)).repeat(self.size, axis=0)\n",
    "        bool_x = self.scores['x'] == max_x\n",
    "        max_y = np.matrix\n",
    "        (self.scores['y'].max(1)).transpose().repeat(self.size, axis=1)\n",
    "        bool_y = self.scores['y'] == max_y\n",
    "        bool_x_y = bool_x & bool_y\n",
    "        return self.scores[bool_x_y]\n",
    "\n",
    "    def isPareto(self, t, s):\n",
    "        return True if (len(s)==0) else \n",
    "        (s[0][0] <= t[0] or s[0][1] <= t[1]) and self.isPareto(t, s[1:])\n",
    "\n",
    "    def pareto(self):\n",
    "        res = []\n",
    "        for s in self.scores:\n",
    "            if(self.isPareto(s,self.scores)):\n",
    "                res.append(s) \n",
    "        return res"
   ]
  },
  {
   "cell_type": "code",
   "execution_count": 31,
   "metadata": {},
   "outputs": [],
   "source": [
    "def mutate_population():\n",
    "    for individual in population:\n",
    "        individual.mutate()\n",
    "\n",
    "def mutate(self):\n",
    "        for i in range(5):\n",
    "            if random() < 0.05: #mutation rate\n",
    "                self.prbs[i] = random()"
   ]
  },
  {
   "cell_type": "markdown",
   "metadata": {},
   "source": [
    "### Nash score"
   ]
  },
  {
   "cell_type": "code",
   "execution_count": 3,
   "metadata": {},
   "outputs": [
    {
     "name": "stdout",
     "output_type": "stream",
     "text": [
      "The Nash Equilibrium\n"
     ]
    },
    {
     "data": {
      "text/plain": [
       "array([(1, 1)], dtype=[('x', '<i4'), ('y', '<i4')])"
      ]
     },
     "execution_count": 3,
     "metadata": {},
     "output_type": "execute_result"
    }
   ],
   "source": [
    "dip =[(3,3),(0,5),(5,0),(1,1)]   # Dilemma of the prisoner: 1 equilibrium\n",
    "gs=[(3,2),(1,1),(0,0),(2,3)]     # War of the sexes: 2 equilibria\n",
    "mp=[(1,-1),(-1,1),(-1,1),(1,-1)] # matching pennies : 0 equilibrium\n",
    "# paper scissors sheet: 0 equilibrium\n",
    "rpc=[(0,0),(-1,1),(1,-1),(1,-1),(0,0),(-1,1),(-1,1),(1,-1),(0,0)] \n",
    "g = Game(dip,['C','D'])\n",
    "g.scores\n",
    "print(\"The Nash Equilibrium\")\n",
    "g.nash()\n",
    "#g.pareto()"
   ]
  },
  {
   "cell_type": "markdown",
   "metadata": {},
   "source": [
    "### Create a random game matrix"
   ]
  },
  {
   "cell_type": "code",
   "execution_count": 4,
   "metadata": {},
   "outputs": [
    {
     "name": "stdout",
     "output_type": "stream",
     "text": [
      "The random game matrix scores\n",
      "[[(0, 2) (2, 0) (1, 0)]\n",
      " [(1, 1) (0, 3) (4, 2)]\n",
      " [(3, 3) (1, 2) (1, 2)]]\n",
      "The nash score for those matrix\n",
      "[(3, 3)]\n"
     ]
    }
   ],
   "source": [
    "x = np.random.randint(0, 5, (3,3))\n",
    "y = np.random.randint(0, 5, (3,3))\n",
    "couples = [(a,b) for a,b in zip(x.flatten(),y.flatten())]\n",
    "g = Game(couples, None)\n",
    "print(\"The random game matrix scores\")\n",
    "print(g.scores)\n",
    "print(\"The nash score for those matrix\")\n",
    "print(g.nash())"
   ]
  },
  {
   "cell_type": "markdown",
   "metadata": {},
   "source": [
    "### Generate all matrices\n",
    "\n",
    "Here is the Cartesian product of values that interests us.\n",
    "We can then for example count how many games have 0.1 or more Nash equilibria."
   ]
  },
  {
   "cell_type": "code",
   "execution_count": 5,
   "metadata": {},
   "outputs": [
    {
     "name": "stdout",
     "output_type": "stream",
     "text": [
      "The number of Games generated\n",
      "256\n"
     ]
    }
   ],
   "source": [
    "def numberOfGames(valeurs, nbCoups):\n",
    "    return len(valeurs)**((nbCoups**2)*2)\n",
    "\n",
    "print(\"The number of Games generated\")\n",
    "print(numberOfGames([1,2],2))"
   ]
  },
  {
   "cell_type": "code",
   "execution_count": 6,
   "metadata": {},
   "outputs": [
    {
     "name": "stdout",
     "output_type": "stream",
     "text": [
      "Print 10 random games found out of 256\n",
      "[(1, 1), (2, 2), (2, 2), (1, 1)]\n",
      "[(1, 1), (1, 1), (2, 1), (2, 2)]\n",
      "[(1, 2), (1, 1), (1, 2), (1, 2)]\n",
      "[(1, 2), (2, 1), (2, 2), (1, 2)]\n",
      "[(2, 1), (2, 1), (2, 1), (2, 1)]\n",
      "[(2, 1), (2, 1), (1, 1), (2, 2)]\n",
      "[(2, 2), (2, 2), (2, 1), (1, 1)]\n",
      "[(2, 1), (1, 2), (1, 1), (1, 2)]\n",
      "[(1, 1), (2, 1), (1, 1), (1, 2)]\n",
      "[(1, 2), (1, 2), (2, 1), (2, 1)]\n"
     ]
    }
   ],
   "source": [
    "def enumAllGames(valeurs, nbCoups):\n",
    "    res = [q for q in itertools.product([p for p in itertools.product\n",
    "                                         (list(valeurs), repeat=2)], \n",
    "                                        repeat=nbCoups**2)]\n",
    "    return [[res[j][k] for k in range(nbCoups**2)] for j in range(len(res))]\n",
    "\n",
    "n = enumAllGames([1,2],2)\n",
    "print(\"Print 10 random games found out of \"+str(numberOfGames([1,2],2)))\n",
    "for i in range (10):\n",
    "    print(random.choice(n))"
   ]
  },
  {
   "cell_type": "markdown",
   "metadata": {},
   "source": [
    "### Getting nash equilibrium for the same"
   ]
  },
  {
   "cell_type": "code",
   "execution_count": 7,
   "metadata": {},
   "outputs": [
    {
     "name": "stdout",
     "output_type": "stream",
     "text": [
      "Nash equilibrium is\n"
     ]
    },
    {
     "data": {
      "text/plain": [
       "{0: 2, 1: 44, 2: 114, 3: 80, 4: 16}"
      ]
     },
     "execution_count": 7,
     "metadata": {},
     "output_type": "execute_result"
    }
   ],
   "source": [
    "def countNashEquilibria(valeurs, coups):\n",
    "    results = [Game(i,None).nash().size \n",
    "               for i in enumAllGames(valeurs, coups)]\n",
    "    return dict((i,results.count(i)) for i in set(results))\n",
    "\n",
    "# How many 2-beat games on (1,2) on x Nash equilibrium\n",
    "print(\"Nash equilibrium is\")\n",
    "countNashEquilibria([1,2],2)"
   ]
  },
  {
   "cell_type": "markdown",
   "metadata": {},
   "source": [
    "## Strategy\n",
    "\n",
    "The startegy decides the next move in game. In terms of this environment, Information available is the move matrix.\n",
    "Let's create the strategy class."
   ]
  },
  {
   "cell_type": "code",
   "execution_count": 8,
   "metadata": {},
   "outputs": [],
   "source": [
    "class Strategy():\n",
    "    def setMemory(self,mem):\n",
    "        pass\n",
    "    \n",
    "    def getAction(self,tick):\n",
    "        pass\n",
    "    \n",
    "    def __copy__(self):\n",
    "        pass\n",
    "\n",
    "    def update(self,x,y):\n",
    "        pass"
   ]
  },
  {
   "cell_type": "markdown",
   "metadata": {},
   "source": [
    "## Periodic version of strategy"
   ]
  },
  {
   "cell_type": "code",
   "execution_count": 9,
   "metadata": {},
   "outputs": [],
   "source": [
    "class Periodic(Strategy):\n",
    "    def __init__(self, sequence, name=None):\n",
    "        super().__init__()\n",
    "        self.sequence = sequence.upper()\n",
    "        self.step = 0\n",
    "        self.name = \"per_\"+sequence if (name == None) else name\n",
    "\n",
    "    def getAction(self,tick):\n",
    "        return self.sequence[tick % len(self.sequence)]\n",
    "\n",
    "    def clone(self):\n",
    "        object = Periodic(self.sequence, self.name)\n",
    "        return object\n",
    "\n",
    "    def update(self,x,y):\n",
    "        pass"
   ]
  },
  {
   "cell_type": "markdown",
   "metadata": {},
   "source": [
    "### Creating example of periodic strategy"
   ]
  },
  {
   "cell_type": "code",
   "execution_count": 10,
   "metadata": {},
   "outputs": [
    {
     "name": "stdout",
     "output_type": "stream",
     "text": [
      "per_abc\tA B C A B C A B C A "
     ]
    }
   ],
   "source": [
    "s1 = Periodic(\"abc\")\n",
    "print(s1.name,end=\"\\t\")\n",
    "for i in range (0,10):\n",
    "    print(s1.getAction(i), end=' ')\n",
    "# IT MUST HAVE 10 MOVES. STARTS WITH AND IS FINISHED BY A"
   ]
  },
  {
   "cell_type": "markdown",
   "metadata": {},
   "source": [
    "## Strategy meeting\n",
    "According to game matrix, when two strategy meets during certain number of moves, the score of each is sum of the scores."
   ]
  },
  {
   "cell_type": "code",
   "execution_count": 11,
   "metadata": {},
   "outputs": [],
   "source": [
    "class Meeting :      \n",
    "    def __init__(self,game,s1,s2,length=1000):\n",
    "        self.game = game\n",
    "        self.s1=s1.clone()\n",
    "        self.s2=s2.clone()\n",
    "        self.length=length\n",
    "        \n",
    "    def reinit(self):\n",
    "        self.s1_score=0\n",
    "        self.s2_score=0\n",
    "        self.s1_rounds=\"\"\n",
    "        self.s2_rounds=\"\"\n",
    "    \n",
    "    def run(self):\n",
    "        self.reinit()\n",
    "        for tick in range(0,self.length):\n",
    "            c1=self.s1.getAction(tick).upper()\n",
    "            c2=self.s2.getAction(tick).upper()\n",
    "            self.s1_rounds+=c1\n",
    "            self.s2_rounds+=c2\n",
    "            self.s1.update(c1,c2)\n",
    "            self.s2.update(c2,c1)\n",
    "            act=self.game.actions\n",
    "            self.s1_score+=self.game.scores['x'][act.index(c1),act.index(c2)]\n",
    "            self.s2_score+=self.game.scores['y'][act.index(c1),act.index(c2)]"
   ]
  },
  {
   "cell_type": "markdown",
   "metadata": {},
   "source": [
    "### Evaluating periodic strategy"
   ]
  },
  {
   "cell_type": "code",
   "execution_count": 12,
   "metadata": {},
   "outputs": [
    {
     "name": "stdout",
     "output_type": "stream",
     "text": [
      "per_CCD\tCCDCCDCCDC 15\n",
      "per_DDC\tDDCDDCDDCD 35\n"
     ]
    }
   ],
   "source": [
    "dip =[(3,3),(0,5),(5,0),(1,1)]   # Dilemma of the prisoner\n",
    "g = Game(dip,['C','D'])\n",
    "s1=Periodic(\"CCD\")\n",
    "s2=Periodic(\"DDC\")\n",
    "m = Meeting(g,s1,s2,10)\n",
    "m.run()\n",
    "print(m.s1.name+\"\\t\"+m.s1_rounds+\" \"+str(m.s1_score))\n",
    "print(m.s2.name+\"\\t\"+m.s2_rounds+\" \"+str(m.s2_score))\n",
    "# ON MUST HAVE 15.35"
   ]
  },
  {
   "cell_type": "markdown",
   "metadata": {},
   "source": [
    "## Tournament\n",
    "In the tournament, using two different strategies. The winning strategy gets the highest score"
   ]
  },
  {
   "cell_type": "code",
   "execution_count": 13,
   "metadata": {},
   "outputs": [],
   "source": [
    "class Tournament:\n",
    "    def __init__(self, game, strategies, length=1000, repeat=1):\n",
    "        self.strategies = strategies\n",
    "        self.game = game\n",
    "        self.length=length\n",
    "        self.repeat=repeat\n",
    "        size=len(strategies);\n",
    "        df = pd.DataFrame(np.zeros((size,size+1),dtype=np.int32))\n",
    "        df.columns, df.index = [s.name for s in self.strategies]+\n",
    "        [\"Total\"], [s.name for s in self.strategies]\n",
    "        self.matrix = df\n",
    "\n",
    "    def run(self):\n",
    "        for k in range(self.repeat):\n",
    "            for i in range (0,len(self.strategies)):\n",
    "                for j in range (i,len(self.strategies)):\n",
    "                    meet = Meeting(self.game, self.strategies[i], \n",
    "                                   self.strategies[j], self.length)\n",
    "                    meet.run()\n",
    "                    self.matrix.at[self.strategies[i].name, \n",
    "                                   self.strategies[j].name] = meet.s1_score\n",
    "                    self.matrix.at[self.strategies[j].name, \n",
    "                                   self.strategies[i].name] = meet.s2_score\n",
    "        self.matrix[\"Total\"] = self.matrix.sum(axis=1)\n",
    "        self.matrix.sort_values(by='Total', ascending=False, inplace=True)\n",
    "        rows = list(self.matrix.index) + [\"Total\"]\n",
    "        self.matrix = self.matrix.reindex(columns=rows)"
   ]
  },
  {
   "cell_type": "markdown",
   "metadata": {},
   "source": [
    "## Playing tournament using those strategies"
   ]
  },
  {
   "cell_type": "code",
   "execution_count": 14,
   "metadata": {},
   "outputs": [
    {
     "name": "stdout",
     "output_type": "stream",
     "text": [
      "         per_D  per_DDC  per_CCD  per_C  Total\n",
      "per_D       10       22       38     50    120\n",
      "per_DDC      7       16       35     44    102\n",
      "per_CCD      3       15       24     36     78\n",
      "per_C        0        9       21     30     60\n"
     ]
    }
   ],
   "source": [
    "bag = []\n",
    "bag.append(Periodic('C'))\n",
    "bag.append(Periodic('D'))\n",
    "bag.append(Periodic('DDC'))\n",
    "bag.append(Periodic('CCD'))\n",
    "t=Tournament(g,bag,10)\n",
    "t.run()\n",
    "print(t.matrix)\n",
    "# ON 10 SHOTS: [('per_D', 120), ('per_DDC', 102), ('per_CCD', 78), ('per_C', 60)]"
   ]
  },
  {
   "cell_type": "markdown",
   "metadata": {},
   "source": [
    "## Generate sets of Strategies"
   ]
  },
  {
   "cell_type": "code",
   "execution_count": 15,
   "metadata": {},
   "outputs": [
    {
     "name": "stdout",
     "output_type": "stream",
     "text": [
      "14 Generated Strategies\n"
     ]
    }
   ],
   "source": [
    "cards = ['C','D']\n",
    "periodics = [p for p in itertools.product(cards, repeat=1)]+\n",
    "            [p for p in itertools.product(cards, repeat=2)] + \n",
    "            [p for p in itertools.product(cards, repeat=3)]\n",
    "strats = [Periodic(''.join(p)) for p in periodics] # join to transform in strings\n",
    "print(str(len(strats))+\" Generated Strategies\")\n",
    "# 14 ARE GENERATED: 2 to one shot, 4 to two shots, 8 to three shots"
   ]
  },
  {
   "cell_type": "markdown",
   "metadata": {},
   "source": [
    "## Ecological Competitions\n",
    "\n",
    "There is a tournament with n game matrix. The each of them are playing with each other.\n",
    "Step 1: The representatives are obtained according to their success.\n",
    "Step 2: Establishing ecological ranking is robust and drawing the graph generations vs population."
   ]
  },
  {
   "cell_type": "code",
   "execution_count": 16,
   "metadata": {},
   "outputs": [],
   "source": [
    "class Ecological:\n",
    "    def __init__(self, game, strategies, length=1000, repeat=1, pop=100):\n",
    "        self.strategies = strategies\n",
    "        self.pop = pop\n",
    "        self.game = game\n",
    "        self.generation = 0 # Number of the current generation\n",
    "        self.base = pop*len(strategies)\n",
    "        self.historic = pd.DataFrame(columns = \n",
    "                                     [strat.name for strat in strategies])\n",
    "        self.historic.loc[0] = [pop for x in range (len(strategies))]\n",
    "        self.extinctions = dict((s.name,math.inf) for s in strategies)\n",
    "        self.scores = dict((s.name,0) for s in strategies)\n",
    "        self.tournament = Tournament(self.game, self.strategies,length,repeat)\n",
    "        self.tournament.run()\n",
    "        \n",
    "    def run(self):\n",
    "        stab = False\n",
    "        while ((self.generation < 1000) and (stab==False)):\n",
    "            parents = list(copy.copy(self.historic.loc[self.generation]))\n",
    "            for i in range (len(self.strategies)):\n",
    "                strat=self.strategies[i].name\n",
    "                score = 0\n",
    "                for j in range(len(self.strategies)):\n",
    "                    strat2 = self.strategies[j].name\n",
    "                    if i==j:\n",
    "                        score+=(self.historic.at[self.generation,\n",
    "                                                 strat]-1)*\n",
    "                        self.tournament.matrix.at[strat,strat2]\n",
    "                    else:\n",
    "                        score+=self.historic.at[self.generation, \n",
    "                                                strat2]*\n",
    "                        self.tournament.matrix.at[strat,strat2]\n",
    "                self.scores[strat] = score\n",
    "            total = 0\n",
    "            for strat in self.strategies:\n",
    "                total+=self.scores[strat.name]*\n",
    "                self.historic.at[self.generation, strat.name]\n",
    "            for strat in self.strategies:\n",
    "                parent = self.historic.at[self.generation, strat.name]\n",
    "                self.historic.at[self.generation+1, strat.name] = \n",
    "                math.floor(self.base*parent*self.scores[strat.name]/total)\n",
    "                if ((parent!=0) and (self.historic.at[\n",
    "                    self.generation+1, strat.name] == 0)):\n",
    "                    self.extinctions[strat.name] = self.generation+1\n",
    "                elif (self.historic.at[self.generation+1, strat.name] != 0):\n",
    "                    self.extinctions[strat.name] = \n",
    "                    elf.historic.at[self.generation+1, strat.name]*1000\n",
    "            self.generation+=1\n",
    "            if (parents == list(self.historic.loc[self.generation])):stab = True\n",
    "        trie = sorted(self.extinctions.items(), key=lambda t:t[1], reverse=True)\n",
    "        df_trie = pd.DataFrame()\n",
    "        for t in trie :\n",
    "            df_trie[t[0]]=self.historic[t[0]]\n",
    "        self.historic = df_trie\n",
    "        return self.historic\n",
    "\n",
    "    def saveData(self):\n",
    "        date = datetime.datetime.now()\n",
    "        self.historic.to_csv(str(date)+'.csv', sep=';', encoding='utf-8')\n",
    "\n",
    "    def drawPlot(self,nbCourbes=None,nbLegends=None):\n",
    "        nbCourbes = len(self.strategies) if (nbCourbes==None) else nbCourbes\n",
    "        nbLegends = len(self.strategies) if (nbLegends==None) else nbLegends\n",
    "        strat = self.historic.columns.tolist()\n",
    "        for i in range(nbCourbes):\n",
    "            plt.plot(self.historic[strat[i]], label=strat[i] \n",
    "                     if (i<nbLegends) else '_nolegend_')\n",
    "        plt.legend(bbox_to_anchor=(0, 1), loc=2, borderaxespad=0.)\n",
    "        plt.ylabel('Population')\n",
    "        plt.xlabel('Generation')\n",
    "        plt.show()\n",
    "        date = datetime.datetime.now()\n",
    "        plt.savefig(str(date)+'.png', dpi=1000)"
   ]
  },
  {
   "cell_type": "markdown",
   "metadata": {},
   "source": [
    "### Plotting generations vs population"
   ]
  },
  {
   "cell_type": "code",
   "execution_count": 17,
   "metadata": {
    "scrolled": false
   },
   "outputs": [
    {
     "data": {
      "image/png": "[encoded data removed]",
      "text/plain": [
       "<Figure size 1080x720 with 1 Axes>"
      ]
     },
     "metadata": {},
     "output_type": "display_data"
    },
    {
     "data": {
      "text/html": [
       "<div>\n",
       "<style scoped>\n",
       "    .dataframe tbody tr th:only-of-type {\n",
       "        vertical-align: middle;\n",
       "    }\n",
       "\n",
       "    .dataframe tbody tr th {\n",
       "        vertical-align: top;\n",
       "    }\n",
       "\n",
       "    .dataframe thead th {\n",
       "        text-align: right;\n",
       "    }\n",
       "</style>\n",
       "<table border=\"1\" class=\"dataframe\">\n",
       "  <thead>\n",
       "    <tr style=\"text-align: right;\">\n",
       "      <th></th>\n",
       "      <th>per_D</th>\n",
       "      <th>per_DD</th>\n",
       "      <th>per_DDD</th>\n",
       "      <th>per_CDD</th>\n",
       "      <th>per_DCD</th>\n",
       "      <th>per_DDC</th>\n",
       "      <th>per_CD</th>\n",
       "      <th>per_DC</th>\n",
       "      <th>per_CCD</th>\n",
       "      <th>per_CDC</th>\n",
       "      <th>per_DCC</th>\n",
       "      <th>per_C</th>\n",
       "      <th>per_CC</th>\n",
       "      <th>per_CCC</th>\n",
       "    </tr>\n",
       "  </thead>\n",
       "  <tbody>\n",
       "    <tr>\n",
       "      <th>0</th>\n",
       "      <td>100</td>\n",
       "      <td>100</td>\n",
       "      <td>100</td>\n",
       "      <td>100</td>\n",
       "      <td>100</td>\n",
       "      <td>100</td>\n",
       "      <td>100</td>\n",
       "      <td>100</td>\n",
       "      <td>100</td>\n",
       "      <td>100</td>\n",
       "      <td>100</td>\n",
       "      <td>100</td>\n",
       "      <td>100</td>\n",
       "      <td>100</td>\n",
       "    </tr>\n",
       "    <tr>\n",
       "      <th>1</th>\n",
       "      <td>133</td>\n",
       "      <td>133</td>\n",
       "      <td>133</td>\n",
       "      <td>111</td>\n",
       "      <td>111</td>\n",
       "      <td>111</td>\n",
       "      <td>100</td>\n",
       "      <td>100</td>\n",
       "      <td>88</td>\n",
       "      <td>88</td>\n",
       "      <td>88</td>\n",
       "      <td>66</td>\n",
       "      <td>66</td>\n",
       "      <td>66</td>\n",
       "    </tr>\n",
       "    <tr>\n",
       "      <th>2</th>\n",
       "      <td>171</td>\n",
       "      <td>171</td>\n",
       "      <td>171</td>\n",
       "      <td>117</td>\n",
       "      <td>118</td>\n",
       "      <td>118</td>\n",
       "      <td>94</td>\n",
       "      <td>94</td>\n",
       "      <td>73</td>\n",
       "      <td>73</td>\n",
       "      <td>73</td>\n",
       "      <td>40</td>\n",
       "      <td>40</td>\n",
       "      <td>40</td>\n",
       "    </tr>\n",
       "    <tr>\n",
       "      <th>3</th>\n",
       "      <td>213</td>\n",
       "      <td>213</td>\n",
       "      <td>213</td>\n",
       "      <td>118</td>\n",
       "      <td>119</td>\n",
       "      <td>119</td>\n",
       "      <td>84</td>\n",
       "      <td>84</td>\n",
       "      <td>56</td>\n",
       "      <td>56</td>\n",
       "      <td>56</td>\n",
       "      <td>21</td>\n",
       "      <td>21</td>\n",
       "      <td>21</td>\n",
       "    </tr>\n",
       "    <tr>\n",
       "      <th>4</th>\n",
       "      <td>256</td>\n",
       "      <td>256</td>\n",
       "      <td>256</td>\n",
       "      <td>113</td>\n",
       "      <td>114</td>\n",
       "      <td>114</td>\n",
       "      <td>70</td>\n",
       "      <td>70</td>\n",
       "      <td>39</td>\n",
       "      <td>39</td>\n",
       "      <td>39</td>\n",
       "      <td>9</td>\n",
       "      <td>9</td>\n",
       "      <td>9</td>\n",
       "    </tr>\n",
       "    <tr>\n",
       "      <th>5</th>\n",
       "      <td>298</td>\n",
       "      <td>298</td>\n",
       "      <td>298</td>\n",
       "      <td>102</td>\n",
       "      <td>103</td>\n",
       "      <td>103</td>\n",
       "      <td>54</td>\n",
       "      <td>54</td>\n",
       "      <td>25</td>\n",
       "      <td>25</td>\n",
       "      <td>25</td>\n",
       "      <td>3</td>\n",
       "      <td>3</td>\n",
       "      <td>3</td>\n",
       "    </tr>\n",
       "    <tr>\n",
       "      <th>6</th>\n",
       "      <td>336</td>\n",
       "      <td>336</td>\n",
       "      <td>336</td>\n",
       "      <td>87</td>\n",
       "      <td>88</td>\n",
       "      <td>88</td>\n",
       "      <td>39</td>\n",
       "      <td>39</td>\n",
       "      <td>14</td>\n",
       "      <td>14</td>\n",
       "      <td>14</td>\n",
       "      <td>0</td>\n",
       "      <td>0</td>\n",
       "      <td>0</td>\n",
       "    </tr>\n",
       "    <tr>\n",
       "      <th>7</th>\n",
       "      <td>369</td>\n",
       "      <td>369</td>\n",
       "      <td>369</td>\n",
       "      <td>71</td>\n",
       "      <td>72</td>\n",
       "      <td>72</td>\n",
       "      <td>26</td>\n",
       "      <td>26</td>\n",
       "      <td>7</td>\n",
       "      <td>7</td>\n",
       "      <td>7</td>\n",
       "      <td>0</td>\n",
       "      <td>0</td>\n",
       "      <td>0</td>\n",
       "    </tr>\n",
       "    <tr>\n",
       "      <th>8</th>\n",
       "      <td>396</td>\n",
       "      <td>396</td>\n",
       "      <td>396</td>\n",
       "      <td>55</td>\n",
       "      <td>56</td>\n",
       "      <td>56</td>\n",
       "      <td>16</td>\n",
       "      <td>16</td>\n",
       "      <td>3</td>\n",
       "      <td>3</td>\n",
       "      <td>3</td>\n",
       "      <td>0</td>\n",
       "      <td>0</td>\n",
       "      <td>0</td>\n",
       "    </tr>\n",
       "    <tr>\n",
       "      <th>9</th>\n",
       "      <td>417</td>\n",
       "      <td>417</td>\n",
       "      <td>417</td>\n",
       "      <td>41</td>\n",
       "      <td>41</td>\n",
       "      <td>41</td>\n",
       "      <td>9</td>\n",
       "      <td>9</td>\n",
       "      <td>1</td>\n",
       "      <td>1</td>\n",
       "      <td>1</td>\n",
       "      <td>0</td>\n",
       "      <td>0</td>\n",
       "      <td>0</td>\n",
       "    </tr>\n",
       "    <tr>\n",
       "      <th>10</th>\n",
       "      <td>433</td>\n",
       "      <td>433</td>\n",
       "      <td>433</td>\n",
       "      <td>29</td>\n",
       "      <td>29</td>\n",
       "      <td>29</td>\n",
       "      <td>5</td>\n",
       "      <td>5</td>\n",
       "      <td>0</td>\n",
       "      <td>0</td>\n",
       "      <td>0</td>\n",
       "      <td>0</td>\n",
       "      <td>0</td>\n",
       "      <td>0</td>\n",
       "    </tr>\n",
       "    <tr>\n",
       "      <th>11</th>\n",
       "      <td>444</td>\n",
       "      <td>444</td>\n",
       "      <td>444</td>\n",
       "      <td>20</td>\n",
       "      <td>20</td>\n",
       "      <td>20</td>\n",
       "      <td>2</td>\n",
       "      <td>2</td>\n",
       "      <td>0</td>\n",
       "      <td>0</td>\n",
       "      <td>0</td>\n",
       "      <td>0</td>\n",
       "      <td>0</td>\n",
       "      <td>0</td>\n",
       "    </tr>\n",
       "    <tr>\n",
       "      <th>12</th>\n",
       "      <td>452</td>\n",
       "      <td>452</td>\n",
       "      <td>452</td>\n",
       "      <td>13</td>\n",
       "      <td>13</td>\n",
       "      <td>13</td>\n",
       "      <td>1</td>\n",
       "      <td>1</td>\n",
       "      <td>0</td>\n",
       "      <td>0</td>\n",
       "      <td>0</td>\n",
       "      <td>0</td>\n",
       "      <td>0</td>\n",
       "      <td>0</td>\n",
       "    </tr>\n",
       "    <tr>\n",
       "      <th>13</th>\n",
       "      <td>457</td>\n",
       "      <td>457</td>\n",
       "      <td>457</td>\n",
       "      <td>8</td>\n",
       "      <td>8</td>\n",
       "      <td>8</td>\n",
       "      <td>0</td>\n",
       "      <td>0</td>\n",
       "      <td>0</td>\n",
       "      <td>0</td>\n",
       "      <td>0</td>\n",
       "      <td>0</td>\n",
       "      <td>0</td>\n",
       "      <td>0</td>\n",
       "    </tr>\n",
       "    <tr>\n",
       "      <th>14</th>\n",
       "      <td>461</td>\n",
       "      <td>461</td>\n",
       "      <td>461</td>\n",
       "      <td>5</td>\n",
       "      <td>5</td>\n",
       "      <td>5</td>\n",
       "      <td>0</td>\n",
       "      <td>0</td>\n",
       "      <td>0</td>\n",
       "      <td>0</td>\n",
       "      <td>0</td>\n",
       "      <td>0</td>\n",
       "      <td>0</td>\n",
       "      <td>0</td>\n",
       "    </tr>\n",
       "    <tr>\n",
       "      <th>15</th>\n",
       "      <td>463</td>\n",
       "      <td>463</td>\n",
       "      <td>463</td>\n",
       "      <td>3</td>\n",
       "      <td>3</td>\n",
       "      <td>3</td>\n",
       "      <td>0</td>\n",
       "      <td>0</td>\n",
       "      <td>0</td>\n",
       "      <td>0</td>\n",
       "      <td>0</td>\n",
       "      <td>0</td>\n",
       "      <td>0</td>\n",
       "      <td>0</td>\n",
       "    </tr>\n",
       "    <tr>\n",
       "      <th>16</th>\n",
       "      <td>464</td>\n",
       "      <td>464</td>\n",
       "      <td>464</td>\n",
       "      <td>2</td>\n",
       "      <td>2</td>\n",
       "      <td>2</td>\n",
       "      <td>0</td>\n",
       "      <td>0</td>\n",
       "      <td>0</td>\n",
       "      <td>0</td>\n",
       "      <td>0</td>\n",
       "      <td>0</td>\n",
       "      <td>0</td>\n",
       "      <td>0</td>\n",
       "    </tr>\n",
       "    <tr>\n",
       "      <th>17</th>\n",
       "      <td>465</td>\n",
       "      <td>465</td>\n",
       "      <td>465</td>\n",
       "      <td>1</td>\n",
       "      <td>1</td>\n",
       "      <td>1</td>\n",
       "      <td>0</td>\n",
       "      <td>0</td>\n",
       "      <td>0</td>\n",
       "      <td>0</td>\n",
       "      <td>0</td>\n",
       "      <td>0</td>\n",
       "      <td>0</td>\n",
       "      <td>0</td>\n",
       "    </tr>\n",
       "    <tr>\n",
       "      <th>18</th>\n",
       "      <td>465</td>\n",
       "      <td>465</td>\n",
       "      <td>465</td>\n",
       "      <td>0</td>\n",
       "      <td>0</td>\n",
       "      <td>0</td>\n",
       "      <td>0</td>\n",
       "      <td>0</td>\n",
       "      <td>0</td>\n",
       "      <td>0</td>\n",
       "      <td>0</td>\n",
       "      <td>0</td>\n",
       "      <td>0</td>\n",
       "      <td>0</td>\n",
       "    </tr>\n",
       "    <tr>\n",
       "      <th>19</th>\n",
       "      <td>466</td>\n",
       "      <td>466</td>\n",
       "      <td>466</td>\n",
       "      <td>0</td>\n",
       "      <td>0</td>\n",
       "      <td>0</td>\n",
       "      <td>0</td>\n",
       "      <td>0</td>\n",
       "      <td>0</td>\n",
       "      <td>0</td>\n",
       "      <td>0</td>\n",
       "      <td>0</td>\n",
       "      <td>0</td>\n",
       "      <td>0</td>\n",
       "    </tr>\n",
       "    <tr>\n",
       "      <th>20</th>\n",
       "      <td>466</td>\n",
       "      <td>466</td>\n",
       "      <td>466</td>\n",
       "      <td>0</td>\n",
       "      <td>0</td>\n",
       "      <td>0</td>\n",
       "      <td>0</td>\n",
       "      <td>0</td>\n",
       "      <td>0</td>\n",
       "      <td>0</td>\n",
       "      <td>0</td>\n",
       "      <td>0</td>\n",
       "      <td>0</td>\n",
       "      <td>0</td>\n",
       "    </tr>\n",
       "  </tbody>\n",
       "</table>\n",
       "</div>"
      ],
      "text/plain": [
       "   per_D per_DD per_DDD per_CDD per_DCD per_DDC per_CD per_DC per_CCD per_CDC  \\\n",
       "0    100    100     100     100     100     100    100    100     100     100   \n",
       "1    133    133     133     111     111     111    100    100      88      88   \n",
       "2    171    171     171     117     118     118     94     94      73      73   \n",
       "3    213    213     213     118     119     119     84     84      56      56   \n",
       "4    256    256     256     113     114     114     70     70      39      39   \n",
       "5    298    298     298     102     103     103     54     54      25      25   \n",
       "6    336    336     336      87      88      88     39     39      14      14   \n",
       "7    369    369     369      71      72      72     26     26       7       7   \n",
       "8    396    396     396      55      56      56     16     16       3       3   \n",
       "9    417    417     417      41      41      41      9      9       1       1   \n",
       "10   433    433     433      29      29      29      5      5       0       0   \n",
       "11   444    444     444      20      20      20      2      2       0       0   \n",
       "12   452    452     452      13      13      13      1      1       0       0   \n",
       "13   457    457     457       8       8       8      0      0       0       0   \n",
       "14   461    461     461       5       5       5      0      0       0       0   \n",
       "15   463    463     463       3       3       3      0      0       0       0   \n",
       "16   464    464     464       2       2       2      0      0       0       0   \n",
       "17   465    465     465       1       1       1      0      0       0       0   \n",
       "18   465    465     465       0       0       0      0      0       0       0   \n",
       "19   466    466     466       0       0       0      0      0       0       0   \n",
       "20   466    466     466       0       0       0      0      0       0       0   \n",
       "\n",
       "   per_DCC per_C per_CC per_CCC  \n",
       "0      100   100    100     100  \n",
       "1       88    66     66      66  \n",
       "2       73    40     40      40  \n",
       "3       56    21     21      21  \n",
       "4       39     9      9       9  \n",
       "5       25     3      3       3  \n",
       "6       14     0      0       0  \n",
       "7        7     0      0       0  \n",
       "8        3     0      0       0  \n",
       "9        1     0      0       0  \n",
       "10       0     0      0       0  \n",
       "11       0     0      0       0  \n",
       "12       0     0      0       0  \n",
       "13       0     0      0       0  \n",
       "14       0     0      0       0  \n",
       "15       0     0      0       0  \n",
       "16       0     0      0       0  \n",
       "17       0     0      0       0  \n",
       "18       0     0      0       0  \n",
       "19       0     0      0       0  \n",
       "20       0     0      0       0  "
      ]
     },
     "execution_count": 17,
     "metadata": {},
     "output_type": "execute_result"
    },
    {
     "data": {
      "text/plain": [
       "<Figure size 432x288 with 0 Axes>"
      ]
     },
     "metadata": {},
     "output_type": "display_data"
    }
   ],
   "source": [
    "eco = Ecological(g, strats)\n",
    "eco.run()\n",
    "plt.figure(figsize=(15,10))    # to set the size of the figure\n",
    "eco.drawPlot(None,None)\n",
    "eco.historic"
   ]
  },
  {
   "cell_type": "markdown",
   "metadata": {},
   "source": [
    "## Reactive strategies"
   ]
  },
  {
   "cell_type": "markdown",
   "metadata": {},
   "source": [
    "## Tit for tat strategy: cooperates on the first move then plays what its opponent played the previous move."
   ]
  },
  {
   "cell_type": "code",
   "execution_count": 18,
   "metadata": {},
   "outputs": [],
   "source": [
    "class Tft(Strategy):\n",
    "    def __init__(self):\n",
    "        super().__init__()\n",
    "        self.name = \"tft\"\n",
    "        self.hisPast=\"\"\n",
    "        \n",
    "    def getAction(self,tick):\n",
    "        return 'C' if (tick==0) else self.hisPast[-1]\n",
    "\n",
    "    def clone(self):\n",
    "        return Tft()\n",
    "\n",
    "    def update(self,my,his):\n",
    "        self.hisPast+=his"
   ]
  },
  {
   "cell_type": "markdown",
   "metadata": {},
   "source": [
    "## Spiteful: cooperates until the opponent defects and thereafter always defects."
   ]
  },
  {
   "cell_type": "code",
   "execution_count": 19,
   "metadata": {},
   "outputs": [],
   "source": [
    "class Spiteful(Strategy):\n",
    "    def __init__(self):\n",
    "        super().__init__()\n",
    "        self.name = \"spiteful\"\n",
    "        self.hisPast=\"\"\n",
    "        self.myPast=\"\"\n",
    "        \n",
    "    def getAction(self,tick):\n",
    "        if (tick==0):\n",
    "                return 'C'\n",
    "        if (self.hisPast[-1]=='D' or self.myPast[-1]=='D') :\n",
    "            return 'D'\n",
    "        else :\n",
    "            return 'C'\n",
    "\n",
    "    def clone(self):\n",
    "        return Spiteful()\n",
    "\n",
    "    def update(self,my,his):\n",
    "        self.myPast+=my\n",
    "        self.hisPast+=his"
   ]
  },
  {
   "cell_type": "code",
   "execution_count": 20,
   "metadata": {
    "scrolled": false
   },
   "outputs": [
    {
     "data": {
      "image/png": "[encoded data removed]",
      "text/plain": [
       "<Figure size 1080x720 with 1 Axes>"
      ]
     },
     "metadata": {},
     "output_type": "display_data"
    },
    {
     "data": {
      "text/html": [
       "<div>\n",
       "<style scoped>\n",
       "    .dataframe tbody tr th:only-of-type {\n",
       "        vertical-align: middle;\n",
       "    }\n",
       "\n",
       "    .dataframe tbody tr th {\n",
       "        vertical-align: top;\n",
       "    }\n",
       "\n",
       "    .dataframe thead th {\n",
       "        text-align: right;\n",
       "    }\n",
       "</style>\n",
       "<table border=\"1\" class=\"dataframe\">\n",
       "  <thead>\n",
       "    <tr style=\"text-align: right;\">\n",
       "      <th></th>\n",
       "      <th>tft</th>\n",
       "      <th>per_C</th>\n",
       "      <th>per_CCD</th>\n",
       "      <th>per_D</th>\n",
       "    </tr>\n",
       "  </thead>\n",
       "  <tbody>\n",
       "    <tr>\n",
       "      <th>0</th>\n",
       "      <td>100</td>\n",
       "      <td>100</td>\n",
       "      <td>100</td>\n",
       "      <td>100</td>\n",
       "    </tr>\n",
       "    <tr>\n",
       "      <th>1</th>\n",
       "      <td>103</td>\n",
       "      <td>85</td>\n",
       "      <td>96</td>\n",
       "      <td>114</td>\n",
       "    </tr>\n",
       "    <tr>\n",
       "      <th>2</th>\n",
       "      <td>108</td>\n",
       "      <td>72</td>\n",
       "      <td>91</td>\n",
       "      <td>127</td>\n",
       "    </tr>\n",
       "    <tr>\n",
       "      <th>3</th>\n",
       "      <td>114</td>\n",
       "      <td>60</td>\n",
       "      <td>85</td>\n",
       "      <td>138</td>\n",
       "    </tr>\n",
       "    <tr>\n",
       "      <th>4</th>\n",
       "      <td>123</td>\n",
       "      <td>50</td>\n",
       "      <td>79</td>\n",
       "      <td>146</td>\n",
       "    </tr>\n",
       "    <tr>\n",
       "      <th>5</th>\n",
       "      <td>135</td>\n",
       "      <td>42</td>\n",
       "      <td>73</td>\n",
       "      <td>148</td>\n",
       "    </tr>\n",
       "    <tr>\n",
       "      <th>6</th>\n",
       "      <td>150</td>\n",
       "      <td>36</td>\n",
       "      <td>68</td>\n",
       "      <td>144</td>\n",
       "    </tr>\n",
       "    <tr>\n",
       "      <th>7</th>\n",
       "      <td>169</td>\n",
       "      <td>31</td>\n",
       "      <td>64</td>\n",
       "      <td>133</td>\n",
       "    </tr>\n",
       "    <tr>\n",
       "      <th>8</th>\n",
       "      <td>193</td>\n",
       "      <td>28</td>\n",
       "      <td>61</td>\n",
       "      <td>116</td>\n",
       "    </tr>\n",
       "    <tr>\n",
       "      <th>9</th>\n",
       "      <td>219</td>\n",
       "      <td>26</td>\n",
       "      <td>58</td>\n",
       "      <td>94</td>\n",
       "    </tr>\n",
       "    <tr>\n",
       "      <th>10</th>\n",
       "      <td>247</td>\n",
       "      <td>25</td>\n",
       "      <td>56</td>\n",
       "      <td>70</td>\n",
       "    </tr>\n",
       "    <tr>\n",
       "      <th>11</th>\n",
       "      <td>272</td>\n",
       "      <td>24</td>\n",
       "      <td>54</td>\n",
       "      <td>48</td>\n",
       "    </tr>\n",
       "    <tr>\n",
       "      <th>12</th>\n",
       "      <td>293</td>\n",
       "      <td>23</td>\n",
       "      <td>51</td>\n",
       "      <td>30</td>\n",
       "    </tr>\n",
       "    <tr>\n",
       "      <th>13</th>\n",
       "      <td>310</td>\n",
       "      <td>22</td>\n",
       "      <td>48</td>\n",
       "      <td>17</td>\n",
       "    </tr>\n",
       "    <tr>\n",
       "      <th>14</th>\n",
       "      <td>323</td>\n",
       "      <td>21</td>\n",
       "      <td>45</td>\n",
       "      <td>9</td>\n",
       "    </tr>\n",
       "    <tr>\n",
       "      <th>15</th>\n",
       "      <td>332</td>\n",
       "      <td>20</td>\n",
       "      <td>41</td>\n",
       "      <td>4</td>\n",
       "    </tr>\n",
       "    <tr>\n",
       "      <th>16</th>\n",
       "      <td>340</td>\n",
       "      <td>19</td>\n",
       "      <td>37</td>\n",
       "      <td>2</td>\n",
       "    </tr>\n",
       "    <tr>\n",
       "      <th>17</th>\n",
       "      <td>346</td>\n",
       "      <td>18</td>\n",
       "      <td>34</td>\n",
       "      <td>0</td>\n",
       "    </tr>\n",
       "    <tr>\n",
       "      <th>18</th>\n",
       "      <td>350</td>\n",
       "      <td>17</td>\n",
       "      <td>31</td>\n",
       "      <td>0</td>\n",
       "    </tr>\n",
       "    <tr>\n",
       "      <th>19</th>\n",
       "      <td>354</td>\n",
       "      <td>16</td>\n",
       "      <td>28</td>\n",
       "      <td>0</td>\n",
       "    </tr>\n",
       "    <tr>\n",
       "      <th>20</th>\n",
       "      <td>358</td>\n",
       "      <td>15</td>\n",
       "      <td>25</td>\n",
       "      <td>0</td>\n",
       "    </tr>\n",
       "    <tr>\n",
       "      <th>21</th>\n",
       "      <td>362</td>\n",
       "      <td>14</td>\n",
       "      <td>22</td>\n",
       "      <td>0</td>\n",
       "    </tr>\n",
       "    <tr>\n",
       "      <th>22</th>\n",
       "      <td>365</td>\n",
       "      <td>13</td>\n",
       "      <td>20</td>\n",
       "      <td>0</td>\n",
       "    </tr>\n",
       "    <tr>\n",
       "      <th>23</th>\n",
       "      <td>368</td>\n",
       "      <td>12</td>\n",
       "      <td>18</td>\n",
       "      <td>0</td>\n",
       "    </tr>\n",
       "    <tr>\n",
       "      <th>24</th>\n",
       "      <td>371</td>\n",
       "      <td>11</td>\n",
       "      <td>16</td>\n",
       "      <td>0</td>\n",
       "    </tr>\n",
       "    <tr>\n",
       "      <th>25</th>\n",
       "      <td>374</td>\n",
       "      <td>11</td>\n",
       "      <td>14</td>\n",
       "      <td>0</td>\n",
       "    </tr>\n",
       "    <tr>\n",
       "      <th>26</th>\n",
       "      <td>376</td>\n",
       "      <td>10</td>\n",
       "      <td>12</td>\n",
       "      <td>0</td>\n",
       "    </tr>\n",
       "    <tr>\n",
       "      <th>27</th>\n",
       "      <td>379</td>\n",
       "      <td>10</td>\n",
       "      <td>10</td>\n",
       "      <td>0</td>\n",
       "    </tr>\n",
       "    <tr>\n",
       "      <th>28</th>\n",
       "      <td>380</td>\n",
       "      <td>9</td>\n",
       "      <td>9</td>\n",
       "      <td>0</td>\n",
       "    </tr>\n",
       "    <tr>\n",
       "      <th>29</th>\n",
       "      <td>382</td>\n",
       "      <td>9</td>\n",
       "      <td>8</td>\n",
       "      <td>0</td>\n",
       "    </tr>\n",
       "    <tr>\n",
       "      <th>30</th>\n",
       "      <td>383</td>\n",
       "      <td>9</td>\n",
       "      <td>7</td>\n",
       "      <td>0</td>\n",
       "    </tr>\n",
       "    <tr>\n",
       "      <th>31</th>\n",
       "      <td>384</td>\n",
       "      <td>9</td>\n",
       "      <td>6</td>\n",
       "      <td>0</td>\n",
       "    </tr>\n",
       "    <tr>\n",
       "      <th>32</th>\n",
       "      <td>385</td>\n",
       "      <td>9</td>\n",
       "      <td>5</td>\n",
       "      <td>0</td>\n",
       "    </tr>\n",
       "    <tr>\n",
       "      <th>33</th>\n",
       "      <td>386</td>\n",
       "      <td>9</td>\n",
       "      <td>4</td>\n",
       "      <td>0</td>\n",
       "    </tr>\n",
       "    <tr>\n",
       "      <th>34</th>\n",
       "      <td>387</td>\n",
       "      <td>9</td>\n",
       "      <td>3</td>\n",
       "      <td>0</td>\n",
       "    </tr>\n",
       "    <tr>\n",
       "      <th>35</th>\n",
       "      <td>388</td>\n",
       "      <td>9</td>\n",
       "      <td>2</td>\n",
       "      <td>0</td>\n",
       "    </tr>\n",
       "    <tr>\n",
       "      <th>36</th>\n",
       "      <td>389</td>\n",
       "      <td>9</td>\n",
       "      <td>1</td>\n",
       "      <td>0</td>\n",
       "    </tr>\n",
       "    <tr>\n",
       "      <th>37</th>\n",
       "      <td>390</td>\n",
       "      <td>9</td>\n",
       "      <td>0</td>\n",
       "      <td>0</td>\n",
       "    </tr>\n",
       "    <tr>\n",
       "      <th>38</th>\n",
       "      <td>390</td>\n",
       "      <td>9</td>\n",
       "      <td>0</td>\n",
       "      <td>0</td>\n",
       "    </tr>\n",
       "  </tbody>\n",
       "</table>\n",
       "</div>"
      ],
      "text/plain": [
       "    tft per_C per_CCD per_D\n",
       "0   100   100     100   100\n",
       "1   103    85      96   114\n",
       "2   108    72      91   127\n",
       "3   114    60      85   138\n",
       "4   123    50      79   146\n",
       "5   135    42      73   148\n",
       "6   150    36      68   144\n",
       "7   169    31      64   133\n",
       "8   193    28      61   116\n",
       "9   219    26      58    94\n",
       "10  247    25      56    70\n",
       "11  272    24      54    48\n",
       "12  293    23      51    30\n",
       "13  310    22      48    17\n",
       "14  323    21      45     9\n",
       "15  332    20      41     4\n",
       "16  340    19      37     2\n",
       "17  346    18      34     0\n",
       "18  350    17      31     0\n",
       "19  354    16      28     0\n",
       "20  358    15      25     0\n",
       "21  362    14      22     0\n",
       "22  365    13      20     0\n",
       "23  368    12      18     0\n",
       "24  371    11      16     0\n",
       "25  374    11      14     0\n",
       "26  376    10      12     0\n",
       "27  379    10      10     0\n",
       "28  380     9       9     0\n",
       "29  382     9       8     0\n",
       "30  383     9       7     0\n",
       "31  384     9       6     0\n",
       "32  385     9       5     0\n",
       "33  386     9       4     0\n",
       "34  387     9       3     0\n",
       "35  388     9       2     0\n",
       "36  389     9       1     0\n",
       "37  390     9       0     0\n",
       "38  390     9       0     0"
      ]
     },
     "execution_count": 20,
     "metadata": {},
     "output_type": "execute_result"
    },
    {
     "data": {
      "text/plain": [
       "<Figure size 432x288 with 0 Axes>"
      ]
     },
     "metadata": {},
     "output_type": "display_data"
    }
   ],
   "source": [
    "eco = Ecological(g, [Periodic('C'),Periodic('D'),Periodic('CCD'),Tft()])\n",
    "eco.run()\n",
    "plt.figure(figsize=(15,10))    # to set the size of the figure\n",
    "eco.drawPlot()\n",
    "eco.tournament.matrix\n",
    "plt.savefig(\"toto.png\")\n",
    "eco.historic\n",
    "# IN THIS EXPERIENCE, ALL_D WINS THE TOURNAMENT, \n",
    "#BUT IT'S TFT WINNING THE ECOLOGICAL COMPETITION"
   ]
  },
  {
   "cell_type": "code",
   "execution_count": 21,
   "metadata": {
    "scrolled": false
   },
   "outputs": [
    {
     "name": "stdout",
     "output_type": "stream",
     "text": [
      "--- The complete matrix of the sorted tournament\n",
      "         per_D   tft  per_CCD  per_C  Total\n",
      "per_D     1000  1004     3668   5000  10672\n",
      "tft        999  3000     2667   3000   9666\n",
      "per_CCD    333  2667     2334   3666   9000\n",
      "per_C        0  3000     2001   3000   8001\n",
      "--- The winners of the tournament\n",
      "per_D      10672\n",
      "tft         9666\n",
      "per_CCD     9000\n",
      "per_C       8001\n",
      "Name: Total, dtype: int64\n",
      "--- The first 3 winners of the tournament\n",
      "per_D      10672\n",
      "tft         9666\n",
      "per_CCD     9000\n",
      "Name: Total, dtype: int64\n",
      "--- Winners who made more than 10,000\n",
      "per_D    10672\n",
      "Name: Total, dtype: int64\n",
      "--- The complete sorted history\n",
      "    tft per_C per_CCD per_D\n",
      "0   100   100     100   100\n",
      "1   103    85      96   114\n",
      "2   108    72      91   127\n",
      "3   114    60      85   138\n",
      "4   123    50      79   146\n",
      "5   135    42      73   148\n",
      "6   150    36      68   144\n",
      "7   169    31      64   133\n",
      "8   193    28      61   116\n",
      "9   219    26      58    94\n",
      "10  247    25      56    70\n",
      "11  272    24      54    48\n",
      "12  293    23      51    30\n",
      "13  310    22      48    17\n",
      "14  323    21      45     9\n",
      "15  332    20      41     4\n",
      "16  340    19      37     2\n",
      "17  346    18      34     0\n",
      "18  350    17      31     0\n",
      "19  354    16      28     0\n",
      "20  358    15      25     0\n",
      "21  362    14      22     0\n",
      "22  365    13      20     0\n",
      "23  368    12      18     0\n",
      "24  371    11      16     0\n",
      "25  374    11      14     0\n",
      "26  376    10      12     0\n",
      "27  379    10      10     0\n",
      "28  380     9       9     0\n",
      "29  382     9       8     0\n",
      "30  383     9       7     0\n",
      "31  384     9       6     0\n",
      "32  385     9       5     0\n",
      "33  386     9       4     0\n",
      "34  387     9       3     0\n",
      "35  388     9       2     0\n",
      "36  389     9       1     0\n",
      "37  390     9       0     0\n",
      "38  390     9       0     0\n",
      "--- Final populations ranked\n",
      "tft        390\n",
      "per_C        9\n",
      "per_CCD      0\n",
      "per_D        0\n",
      "Name: 38, dtype: object\n",
      "tft        390\n",
      "per_C        9\n",
      "per_CCD      0\n",
      "per_D        0\n",
      "Name: 38, dtype: object\n",
      "    tft per_C per_CCD per_D\n",
      "38  390     9       0     0\n",
      "--- The first 2 of the competition\n",
      "tft      390\n",
      "per_C      9\n",
      "Name: 38, dtype: object\n",
      "--- The last survivors\n",
      "tft      390\n",
      "per_C      9\n",
      "Name: 38, dtype: object\n",
      "--- the line when tft = 340?\n",
      "--- What index do per_C and per_D intersect?\n",
      "    tft per_C per_CCD per_D\n",
      "13  310    22      48    17\n",
      "14  323    21      45     9\n",
      "15  332    20      41     4\n",
      "16  340    19      37     2\n"
     ]
    },
    {
     "data": {
      "image/png": "[encoded data removed]",
      "text/plain": [
       "<Figure size 1080x720 with 1 Axes>"
      ]
     },
     "metadata": {},
     "output_type": "display_data"
    },
    {
     "data": {
      "text/plain": [
       "<Figure size 432x288 with 0 Axes>"
      ]
     },
     "metadata": {},
     "output_type": "display_data"
    }
   ],
   "source": [
    "tournament = eco.tournament.matrix\n",
    "\n",
    "print (\"--- The complete matrix of the sorted tournament\")\n",
    "print (tournament)\n",
    "print (\"--- The winners of the tournament\")\n",
    "print (tournament [ 'Total'])\n",
    "print (\"--- The first 3 winners of the tournament\")\n",
    "print (tournament [ 'Total'] [0: 3])\n",
    "print (\"--- Winners who made more than 10,000\")\n",
    "print (tournament [ 'Total'] [tournament [ 'Total']> 10000])\n",
    "\n",
    "evol = eco.historic\n",
    "\n",
    "print (\"--- The complete sorted history\")\n",
    "print (evol)\n",
    "print (\"--- Final populations ranked\")\n",
    "print (evol.iloc [eco.generation])\n",
    "print (evol.iloc [-1])\n",
    "print (evol.tail (1))\n",
    "print (\"--- The first 2 of the competition\")\n",
    "print (evol.iloc [-1] [0: 2])\n",
    "print (\"--- The last survivors\")\n",
    "print (evol.iloc [-1] [evol.iloc [-1]> 0])\n",
    "print (\"--- the line when tft = 340?\")\n",
    "evol.loc [evol.tft == 340]\n",
    "print (\"--- What index do per_C and per_D intersect?\")\n",
    "print (evol.loc [evol.per_C> evol.per_D].loc [evol.per_D != 0])\n",
    "\n",
    "#Write the equivalent of select * from evol where ...\n",
    "\n",
    "evol.loc [(evol.tft> 300) & (evol.per_D> 0)]\n",
    "evol.query ('tft> 300 & per_D> 0')\n",
    "plt.figure(figsize=(15,10))    # to set the size of the figure\n",
    "eco.drawPlot()"
   ]
  },
  {
   "cell_type": "markdown",
   "metadata": {},
   "source": [
    "# The n -memory based IPD"
   ]
  },
  {
   "cell_type": "code",
   "execution_count": 22,
   "metadata": {},
   "outputs": [],
   "source": [
    "class Mem(Strategy):\n",
    "    def __init__(self, x, y, genome, name=None):\n",
    "        self.name = name\n",
    "        self.x = x\n",
    "        self.y = y\n",
    "        self.genome = genome\n",
    "        if (name == None):# Default name if the user does not define it\n",
    "            self.name = genome\n",
    "        self.myMoves = [] #contains my x last moves\n",
    "        self.itsMoves = [] #contains its y last moves\n",
    "\n",
    "    def clone(self):\n",
    "        return Mem(self.x, self.y, self.genome, self.name)\n",
    "\n",
    "    def getAction(self, tick):\n",
    "        if (tick < max(self.x, self.y)):\n",
    "            return self.genome[tick]\n",
    "        cpt = 0\n",
    "        for i in range(self.x-1,-1,-1):\n",
    "            cpt*=2\n",
    "            if (self.myMoves[i] == 'D'):\n",
    "                cpt+=1\n",
    "        for i in range(self.y-1,-1,-1):\n",
    "            cpt*=2\n",
    "            if (self.itsMoves[i] == 'D'):\n",
    "                cpt+=1\n",
    "        cpt += max(self.x, self.y)\n",
    "        return self.genome[cpt]\n",
    "\n",
    "    def update(self, myMove, itsMove):\n",
    "        if (self.x > 0):\n",
    "            if(len(self.myMoves) == self.x):\n",
    "                del self.myMoves[0]\n",
    "            self.myMoves.append(myMove)\n",
    "        if (self.y > 0):\n",
    "            if(len(self.itsMoves) == self.y):\n",
    "                del self.itsMoves[0]\n",
    "            self.itsMoves.append(itsMove)"
   ]
  },
  {
   "cell_type": "markdown",
   "metadata": {},
   "source": [
    "## Memory based strategies\n",
    "\n",
    "1) Always Cooperate : Cooperates on every move <br>\n",
    "2) Always Defect : Defects on every move3) Tit for Tat : Cooperates on the first move, then simply copies the opponent’s last move.<br>\n",
    "3) Pavlov : Cooperates on the first move, and defects only if both the players did not agree on the previous move.<br>\n",
    "4) Spiteful : Cooperates, until the opponent defects, and thereafter always defects.<br>\n",
    "5) Random Player : Makes a random move.<br>\n",
    "6) Periodic player CD : Plays C, D periodically.<br>\n",
    "7) Periodic player DDC : Plays D, D, C periodically.<br>\n",
    "8) Periodic player CCD : Plays C, C, D periodically.<br>\n",
    "9) Tit for Two Tats : Cooperates on the first move, and defects only when the opponent defects two times.<br>\n",
    "10) Hard Tit for Tat : Cooperates on the first move, and defects if the opponent has defects on any of the previous three moves, else cooperates.<br>"
   ]
  },
  {
   "cell_type": "code",
   "execution_count": 23,
   "metadata": {},
   "outputs": [
    {
     "data": {
      "text/plain": [
       "<__main__.Mem at 0x7f16ebbf1390>"
      ]
     },
     "execution_count": 23,
     "metadata": {},
     "output_type": "execute_result"
    }
   ],
   "source": [
    "Mem(0,0,'C','allc')\n",
    "Mem(0,0,'D','alld')\n",
    "Mem(1,0,'cDC','percd')\n",
    "Mem(1,0,'dDC','perdc')\n",
    "Mem(0,1,'cCD','tft')\n",
    "Mem(0,1,'dCD','mistrust')\n",
    "Mem(1,1,'cCDDD','spiteful')\n",
    "Mem(1,1,'cCDDC','pavlov')\n",
    "Mem(0,2,'ccCCCD','tf2t')\n",
    "Mem(0,2,'ccCDDD','hard_tft')\n",
    "Mem(1,2,'ccCCCDCDDD','slow_tft')\n",
    "Mem(1,2,'ccCDCDDCDD','winner12') \n",
    "Mem(1,2,'','tft_spiteful')\n",
    "Mem(1,2,'ccCDDDDDDD','spiteful_cc')"
   ]
  },
  {
   "cell_type": "code",
   "execution_count": 24,
   "metadata": {},
   "outputs": [
    {
     "name": "stdout",
     "output_type": "stream",
     "text": [
      "          spiteful  tft  per_D  per_CD  per_DC  per_C  Total\n",
      "spiteful       300  300     99     297     299    300   1595\n",
      "tft            300  300     99     248     250    300   1497\n",
      "per_D          104  104    100     300     300    500   1408\n",
      "per_CD          57  253     50     200     250    400   1210\n",
      "per_DC          54  250     50     250     200    400   1204\n",
      "per_C          300  300      0     150     150    300   1200\n",
      "          spiteful  tft  alld  percd  perdc  allc  Total\n",
      "spiteful       300  300    99    297    299   300   1595\n",
      "tft            300  300    99    248    250   300   1497\n",
      "alld           104  104   100    300    300   500   1408\n",
      "percd           57  253    50    200    250   400   1210\n",
      "perdc           54  250    50    250    200   400   1204\n",
      "allc           300  300     0    150    150   300   1200\n"
     ]
    }
   ],
   "source": [
    "bag1 = [Periodic('C'),Periodic('D'),Tft(),Spiteful(),Periodic('CD'),Periodic('DC')]\n",
    "t1=Tournament(g,bag1,100)\n",
    "t1.run()\n",
    "print(t1.matrix)\n",
    "\n",
    "bag2 = [Mem(0,0,'C','allc'),Mem(0,0,'D','alld'),Mem(0,1,'cCD','tft'),\n",
    "        Mem(1,1,'cCDDD','spiteful'),Mem(1,0,'cDC','percd'),Mem(1,0,'dDC','perdc')]\n",
    "t2=Tournament(g,bag2,100)\n",
    "t2.run()\n",
    "print(t2.matrix)"
   ]
  },
  {
   "cell_type": "markdown",
   "metadata": {},
   "source": [
    "## Generate all\n",
    "\n",
    "| Family  | Length | First Game   |\n",
    "|         :-:        :-:         |\n",
    "| mem(0,1) | 1+2^1 = 3        | 2^3 = 8 |\n",
    "| mem(1,0) | 1+2^1 = 3        | 2^3 = 8 |\n",
    "| mem(1,1) | 1+2^2 = 5        | 2^5 = 32 |\n",
    "| mem(2,0) | 2+2^2 = 6        | 2^6 = 64 |\n",
    "| mem(1,2) | 2+2^3 = 10       | 2^10 = 1024 |\n",
    "| mem(2,1) | 2+2^3 = 10       | 2^10 = 1024 |\n",
    "| mem(2,2) | 2+2^4 = 18       | 2^18 = 262144 |"
   ]
  },
  {
   "cell_type": "code",
   "execution_count": 25,
   "metadata": {},
   "outputs": [
    {
     "name": "stdout",
     "output_type": "stream",
     "text": [
      "In Mem (1,1) there is 32 stratégies\n"
     ]
    }
   ],
   "source": [
    "def getAllMemory(x,y):\n",
    "    if (x+y > 4):\n",
    "        return \"Pas calculable\"\n",
    "    len_genome = max(x,y)+2**(x+y)\n",
    "    permut = [p for p in itertools.product(['C','D'], repeat=len_genome)]\n",
    "    genomes = [''.join(p) for p in permut]\n",
    "    return [Mem(x,y,gen) for gen in genomes]\n",
    "\n",
    "print(\"In Mem (1,1) there is \"+ str(len(getAllMemory(1,1))) + \" stratégies\")"
   ]
  },
  {
   "cell_type": "markdown",
   "metadata": {},
   "source": [
    "## The competition of Mem(1,1)"
   ]
  },
  {
   "cell_type": "code",
   "execution_count": 26,
   "metadata": {},
   "outputs": [
    {
     "data": {
      "image/png": "[encoded data removed]",
      "text/plain": [
       "<Figure size 1080x720 with 1 Axes>"
      ]
     },
     "metadata": {},
     "output_type": "display_data"
    },
    {
     "name": "stdout",
     "output_type": "stream",
     "text": [
      "CCDDD    2126\n",
      "CCDCD     701\n",
      "CCDDC     214\n",
      "CCDCC     158\n",
      "Name: 20, dtype: object\n"
     ]
    },
    {
     "data": {
      "text/plain": [
       "<Figure size 432x288 with 0 Axes>"
      ]
     },
     "metadata": {},
     "output_type": "display_data"
    }
   ],
   "source": [
    "bag3 = getAllMemory(1,1)\n",
    "e2 = Ecological(g,bag3)\n",
    "e2.run()\n",
    "plt.figure(figsize=(15,10)) \n",
    "e2.drawPlot(None,4)\n",
    "evol = e2.historic\n",
    "print(evol.iloc[-1][evol.iloc[-1]>0])\n",
    "# Only 4 survive: mem11_cCDDD-spite 2126, mem11_cCDCD-tft 701,\n",
    "#mem11_cCDDD-pavlov 214, mem11_cCDCC 158"
   ]
  },
  {
   "cell_type": "markdown",
   "metadata": {},
   "source": [
    "## Beating the one memory class\n",
    "find a `Mem (2,2)` capable of winning in the set of `Mem (1,1)`. The simplest way to find one is to calculate a random genotype of a `Mem (2,2)` a number of times, evaluate it in `Mem (1,1)`, look at its ranking and keep only the one with the highest ranking. This is the case of `Mem (2,2, 'CCCCDDDCCDCDDDDDDD')`."
   ]
  },
  {
   "cell_type": "code",
   "execution_count": 27,
   "metadata": {},
   "outputs": [],
   "source": [
    "class FindBest:\n",
    "    def __init__(self, game):\n",
    "        self.game = game\n",
    "\n",
    "    def generate_random_genotype(self, x, y):\n",
    "        N = max(x,y) + 2**(x+y)\n",
    "        genotype = \"\"\n",
    "        for i in range (N):\n",
    "            genotype += random.choice(self.game.actions)\n",
    "        return genotype\n",
    "\n",
    "    def random_selection(self, x, y, nb_tests, soupe):\n",
    "        d = dict()\n",
    "        for n in range(nb_tests):\n",
    "            genotype = self.generate_random_genotype(x,y)\n",
    "            strat = Mem(x,y,genotype)\n",
    "            eco = Ecological(self.game, soupe+[strat])\n",
    "            eco.run()\n",
    "            d[genotype] = eco.historic.columns.tolist().index(strat.name)\n",
    "        return sorted(d.items(), key=lambda t: t[1])"
   ]
  },
  {
   "cell_type": "code",
   "execution_count": 28,
   "metadata": {},
   "outputs": [
    {
     "name": "stdout",
     "output_type": "stream",
     "text": [
      "[('DCDCCDCCCCCDDDCDCD', 12), ('CDCDDCDDDDDDDCCDDC', 15)]\n"
     ]
    }
   ],
   "source": [
    "dip =[(3,3),(0,5),(5,0),(1,1)]\n",
    "g = Game(dip,['C','D'])\n",
    "gen = FindBest(g)\n",
    "soupe = getAllMemory(1,1)\n",
    "print(gen.random_selection(2,2,10,soupe)[1:3])"
   ]
  },
  {
   "cell_type": "markdown",
   "metadata": {},
   "source": [
    "## Plotting the generations vs Population"
   ]
  },
  {
   "cell_type": "code",
   "execution_count": 29,
   "metadata": {},
   "outputs": [
    {
     "data": {
      "image/png": "[encoded data removed]",
      "text/plain": [
       "<Figure size 1080x720 with 1 Axes>"
      ]
     },
     "metadata": {},
     "output_type": "display_data"
    },
    {
     "name": "stdout",
     "output_type": "stream",
     "text": [
      "CCCCDDDCCDCDDDDDDD    1267\n",
      "CCDDD                 1153\n",
      "CCDCD                  431\n",
      "CCDDC                  252\n",
      "CCDCC                  175\n",
      "CCCCC                    5\n",
      "CCCCD                    5\n",
      "CCCDC                    5\n",
      "CCCDD                    5\n",
      "Name: 21, dtype: object\n"
     ]
    },
    {
     "data": {
      "text/plain": [
       "<Figure size 432x288 with 0 Axes>"
      ]
     },
     "metadata": {},
     "output_type": "display_data"
    }
   ],
   "source": [
    "bag3=getAllMemory(1,1)\n",
    "e2=Ecological(g,bag3+[Mem(2,2,'CCCCDDDCCDCDDDDDDD')])\n",
    "e2.run()\n",
    "plt.figure(figsize=(15,10))\n",
    "e2.drawPlot(None,4)\n",
    "evol=e2.historic\n",
    "print(evol.iloc[-1][evol.iloc[-1]>0])"
   ]
  },
  {
   "cell_type": "markdown",
   "metadata": {},
   "source": [
    "# Conclusion: This project was fun. I loved reading on Game theory and Nash equilibirum. I love the concept of No regret for anyone and finding the strategy which can compensate both."
   ]
  }
 ],
 "metadata": {
  "kernelspec": {
   "display_name": "Python 3",
   "language": "python",
   "name": "python3"
  },
  "language_info": {
   "codemirror_mode": {
    "name": "ipython",
    "version": 3
   },
   "file_extension": ".py",
   "mimetype": "text/x-python",
   "name": "python",
   "nbconvert_exporter": "python",
   "pygments_lexer": "ipython3",
   "version": "3.6.5"
  }
 },
 "nbformat": 4,
 "nbformat_minor": 2
}
